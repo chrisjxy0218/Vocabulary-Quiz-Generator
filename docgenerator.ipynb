{
 "cells": [
  {
   "cell_type": "code",
   "execution_count": 1,
   "metadata": {
    "collapsed": true,
    "pycharm": {
     "name": "#%%\n"
    }
   },
   "outputs": [],
   "source": [
    "import docx\n",
    "import pandas as pd"
   ]
  },
  {
   "cell_type": "code",
   "execution_count": 2,
   "outputs": [],
   "source": [
    "list_specifiers = pd.read_csv('list_identifiers.txt')"
   ],
   "metadata": {
    "collapsed": false,
    "pycharm": {
     "name": "#%%\n"
    }
   }
  },
  {
   "cell_type": "code",
   "execution_count": 3,
   "outputs": [],
   "source": [
    "sentences_df = pd.read_csv(\"outputs.csv\")\n",
    "words_complete = pd.read_csv('words.csv').to_numpy().reshape(6747).tolist()\n",
    "words_complete[2216] = 'null'\n",
    "for i in range(43):\n",
    "\n",
    "    # this currently generates files separated by lists in the book\n",
    "    # if needed, change the words_list variable to suit different purposes\n",
    "\n",
    "    quiz = docx.Document()\n",
    "    quiz.add_heading(\"GRE Word Quiz Sample\")\n",
    "    wrds = quiz.add_paragraph()\n",
    "    start_word = list_specifiers.iloc[i]['start']\n",
    "    finish_word = list_specifiers.iloc[i]['finish']\n",
    "    specifier_index = [words_complete.index(start_word), words_complete.index(finish_word)]\n",
    "    words_list = words_complete[specifier_index[0]:specifier_index[1]]\n",
    "\n",
    "    for word in words_list:\n",
    "        p = wrds.add_run(f'{word}, ').bold = True\n",
    "    instruction = quiz.add_paragraph()\n",
    "    ins_line = instruction.add_run(\"Please fill in the blanks using words provided in bold.\")\n",
    "    ins_line.italic = True\n",
    "    ins_line.underline = True\n",
    "    for word in words_list:\n",
    "        sentence = sentences_df[word][0]\n",
    "        if type(sentence) == str:\n",
    "            par = quiz.add_paragraph(sentence)\n",
    "            par.paragraph_format.alignment = docx.enum.text.WD_ALIGN_PARAGRAPH.LEFT\n",
    "\n",
    "    quiz.save(f\"list {i+1}.docx\") # this saves the file of sentences of words in one list, delete this line or change directory if needed"
   ],
   "metadata": {
    "collapsed": false,
    "pycharm": {
     "name": "#%%\n"
    }
   }
  }
 ],
 "metadata": {
  "kernelspec": {
   "display_name": "Python 3",
   "language": "python",
   "name": "python3"
  },
  "language_info": {
   "codemirror_mode": {
    "name": "ipython",
    "version": 2
   },
   "file_extension": ".py",
   "mimetype": "text/x-python",
   "name": "python",
   "nbconvert_exporter": "python",
   "pygments_lexer": "ipython2",
   "version": "2.7.6"
  }
 },
 "nbformat": 4,
 "nbformat_minor": 0
}